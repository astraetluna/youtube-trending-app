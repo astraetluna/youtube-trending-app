{
 "cells": [
  {
   "cell_type": "markdown",
   "metadata": {},
   "source": [
    "# 1 - Understanding YouTube Trends and Strategy for Going Viral\n",
    "\n",
    "YouTube (the world-famous video sharing website) maintains a list of the top trending videos on the platform. Trending videos are not personalized and show what viewers in each country or region find interesting. For some videos it is predictable to become trending like a new song from a popular interpreter, or a new movie trailer. For other videos, the trends can be surprising. Within this notebook, we will explore trending videos and their YouTube titles with Natural Language Processing to build a machine learning model for an app that rates a new video title on a trending scale.\n",
    "\n",
    "### Data set\n",
    "To conduct the study, we used open data from [Kaggle](https://www.kaggle.com/datasnaek/youtube-new), which includes several months of collecting data on daily trending YouTube videos. The dataset contains information about many regions around the world, but we only consider the U.S. data, which has up to 200 listed trending videos per day.\n",
    "This dataset was collected using the data scraper available on [Github](https://github.com/DataSnaek/Trending-YouTube-Scraper).\n",
    "\n",
    "\n",
    "## 1.1 - Problem Statement: What decides if a video will be trending on YouTube?\n",
    "\n",
    "YouTube remains vague about the patterns used in the trending algorithms and claims that some \"soft facts\" decide about trending. YouTube website says, that trending videos:\n",
    "\n",
    "- are appealing to a wide range of viewers\n",
    "- are not misleading, clickbaity, or sensational\n",
    "- capture the breadth of what’s happening on YouTube and in the world\n",
    "- showcase a diversity of creators\n",
    "- ideally are surprising or novel.\n",
    "\n",
    "According to YouTube, trending algorithm aims to balance these considerations. To achieve this goal, trending algorithm considers many factors, including, view count, how fast the video generates views (i.e. “temperature”), where views are coming from, including outside of YouTube and the age of the video.\n",
    "Source: [YouTube Help Center](https://support.google.com/youtube/answer/7239739?hl=en). \n",
    "\n",
    "But what catches user's eye is at least the small thumbnail and the title text below the video. And even if YouTube is saying, clickbaity videos are not supported, while scrolling through YouTube trends everyone will find a lot of sensational and clickbaity results on the list.\n",
    "\n",
    "Hard number metrics such as views or likes have likely to play a role, however it is not easy to discover how they are balanced and how they influence the overall trending ratings. \n",
    "\n",
    "## 1.2  - Metrics for viral videos and trending\n",
    "\n",
    "Even if YouTube does not openly admit, how the trending videos be found on the list, we will check how user interactions with videos  such as likes, views and comments influence the trending. Likes or dislikes produce immediate feedback, a lot of comments might be an evidence of having a large and engaged community. Getting many views drives the video up to the top of the trending list.\n",
    "In this notebook, we will be studying how the title of a video affects the trending, and we will lay grounds to develop an app, which check a new video title, if it is good enough for the video to become trending."
   ]
  },
  {
   "cell_type": "markdown",
   "metadata": {},
   "source": [
    "--------------------------------------------------  "
   ]
  },
  {
   "cell_type": "markdown",
   "metadata": {},
   "source": [
    "# 2 - Analysis - Data Exploration and Data Visualization\n",
    "\n",
    "In first step we will explore our data, drop irrelevant columns which are not interesting for the analysis. Further, we will look into correlations in the dataset, and specifics of the trending videos. Afterwards, we will investigate and report statistics about the metrics: likes, dislikes, views and comments, and normalize the metics."
   ]
  },
  {
   "cell_type": "markdown",
   "metadata": {},
   "source": [
    "##  2.1 - Importing relevant libraries. "
   ]
  },
  {
   "cell_type": "code",
   "execution_count": 19,
   "metadata": {},
   "outputs": [
    {
     "name": "stderr",
     "output_type": "stream",
     "text": [
      "[nltk_data] Downloading package punkt to\n",
      "[nltk_data]     /Users/kasialukoszek/nltk_data...\n",
      "[nltk_data]   Package punkt is already up-to-date!\n",
      "[nltk_data] Downloading package wordnet to\n",
      "[nltk_data]     /Users/kasialukoszek/nltk_data...\n",
      "[nltk_data]   Package wordnet is already up-to-date!\n",
      "[nltk_data] Downloading package stopwords to\n",
      "[nltk_data]     /Users/kasialukoszek/nltk_data...\n",
      "[nltk_data]   Package stopwords is already up-to-date!\n"
     ]
    }
   ],
   "source": [
    "import numpy as np\n",
    "import pandas as pd\n",
    "import re\n",
    "import nltk\n",
    "nltk.download('punkt')\n",
    "nltk.download('wordnet')\n",
    "nltk.download('stopwords')\n",
    "from nltk.tokenize import word_tokenize\n",
    "from nltk.corpus import stopwords\n",
    "from nltk.stem import WordNetLemmatizer\n",
    "from sklearn.pipeline import Pipeline\n",
    "from sklearn.feature_extraction.text import CountVectorizer, TfidfTransformer\n",
    "from sklearn.multioutput import MultiOutputClassifier\n",
    "from sklearn.ensemble import RandomForestClassifier\n",
    "from sklearn.model_selection import train_test_split\n",
    "from sklearn.model_selection import GridSearchCV\n",
    "from sklearn.linear_model import SGDRegressor\n",
    "from sklearn.svm import SVR\n",
    "from sklearn.externals import joblib \n",
    "import seaborn as sns\n",
    "import matplotlib.pyplot as plt\n",
    "from sklearn.metrics import r2_score\n"
   ]
  },
  {
   "cell_type": "markdown",
   "metadata": {},
   "source": [
    "##  2.2 - Loading and preprocessing data\n",
    "We decide only to look into US video data. We drop several information such us ids, urls and dates not relevant for this notebook."
   ]
  },
  {
   "cell_type": "code",
   "execution_count": 20,
   "metadata": {},
   "outputs": [],
   "source": [
    "df = pd.read_csv(\"USvideos.csv\")\n",
    "df = df.drop(columns = [\"description\",\"video_id\",\"publish_time\",\"trending_date\",\"thumbnail_link\", \"category_id\"])"
   ]
  },
  {
   "cell_type": "markdown",
   "metadata": {},
   "source": [
    "##  2.3 -  Data Statistics"
   ]
  },
  {
   "cell_type": "code",
   "execution_count": 21,
   "metadata": {},
   "outputs": [
    {
     "data": {
      "text/html": [
       "<div>\n",
       "<style scoped>\n",
       "    .dataframe tbody tr th:only-of-type {\n",
       "        vertical-align: middle;\n",
       "    }\n",
       "\n",
       "    .dataframe tbody tr th {\n",
       "        vertical-align: top;\n",
       "    }\n",
       "\n",
       "    .dataframe thead th {\n",
       "        text-align: right;\n",
       "    }\n",
       "</style>\n",
       "<table border=\"1\" class=\"dataframe\">\n",
       "  <thead>\n",
       "    <tr style=\"text-align: right;\">\n",
       "      <th></th>\n",
       "      <th>title</th>\n",
       "      <th>channel_title</th>\n",
       "      <th>tags</th>\n",
       "      <th>views</th>\n",
       "      <th>likes</th>\n",
       "      <th>dislikes</th>\n",
       "      <th>comment_count</th>\n",
       "      <th>comments_disabled</th>\n",
       "      <th>ratings_disabled</th>\n",
       "      <th>video_error_or_removed</th>\n",
       "    </tr>\n",
       "  </thead>\n",
       "  <tbody>\n",
       "    <tr>\n",
       "      <th>0</th>\n",
       "      <td>WE WANT TO TALK ABOUT OUR MARRIAGE</td>\n",
       "      <td>CaseyNeistat</td>\n",
       "      <td>SHANtell martin</td>\n",
       "      <td>748374</td>\n",
       "      <td>57527</td>\n",
       "      <td>2966</td>\n",
       "      <td>15954</td>\n",
       "      <td>False</td>\n",
       "      <td>False</td>\n",
       "      <td>False</td>\n",
       "    </tr>\n",
       "    <tr>\n",
       "      <th>1</th>\n",
       "      <td>The Trump Presidency: Last Week Tonight with J...</td>\n",
       "      <td>LastWeekTonight</td>\n",
       "      <td>last week tonight trump presidency|\"last week ...</td>\n",
       "      <td>2418783</td>\n",
       "      <td>97185</td>\n",
       "      <td>6146</td>\n",
       "      <td>12703</td>\n",
       "      <td>False</td>\n",
       "      <td>False</td>\n",
       "      <td>False</td>\n",
       "    </tr>\n",
       "    <tr>\n",
       "      <th>2</th>\n",
       "      <td>Racist Superman | Rudy Mancuso, King Bach &amp; Le...</td>\n",
       "      <td>Rudy Mancuso</td>\n",
       "      <td>racist superman|\"rudy\"|\"mancuso\"|\"king\"|\"bach\"...</td>\n",
       "      <td>3191434</td>\n",
       "      <td>146033</td>\n",
       "      <td>5339</td>\n",
       "      <td>8181</td>\n",
       "      <td>False</td>\n",
       "      <td>False</td>\n",
       "      <td>False</td>\n",
       "    </tr>\n",
       "    <tr>\n",
       "      <th>3</th>\n",
       "      <td>Nickelback Lyrics: Real or Fake?</td>\n",
       "      <td>Good Mythical Morning</td>\n",
       "      <td>rhett and link|\"gmm\"|\"good mythical morning\"|\"...</td>\n",
       "      <td>343168</td>\n",
       "      <td>10172</td>\n",
       "      <td>666</td>\n",
       "      <td>2146</td>\n",
       "      <td>False</td>\n",
       "      <td>False</td>\n",
       "      <td>False</td>\n",
       "    </tr>\n",
       "    <tr>\n",
       "      <th>4</th>\n",
       "      <td>I Dare You: GOING BALD!?</td>\n",
       "      <td>nigahiga</td>\n",
       "      <td>ryan|\"higa\"|\"higatv\"|\"nigahiga\"|\"i dare you\"|\"...</td>\n",
       "      <td>2095731</td>\n",
       "      <td>132235</td>\n",
       "      <td>1989</td>\n",
       "      <td>17518</td>\n",
       "      <td>False</td>\n",
       "      <td>False</td>\n",
       "      <td>False</td>\n",
       "    </tr>\n",
       "  </tbody>\n",
       "</table>\n",
       "</div>"
      ],
      "text/plain": [
       "                                               title          channel_title  \\\n",
       "0                 WE WANT TO TALK ABOUT OUR MARRIAGE           CaseyNeistat   \n",
       "1  The Trump Presidency: Last Week Tonight with J...        LastWeekTonight   \n",
       "2  Racist Superman | Rudy Mancuso, King Bach & Le...           Rudy Mancuso   \n",
       "3                   Nickelback Lyrics: Real or Fake?  Good Mythical Morning   \n",
       "4                           I Dare You: GOING BALD!?               nigahiga   \n",
       "\n",
       "                                                tags    views   likes  \\\n",
       "0                                    SHANtell martin   748374   57527   \n",
       "1  last week tonight trump presidency|\"last week ...  2418783   97185   \n",
       "2  racist superman|\"rudy\"|\"mancuso\"|\"king\"|\"bach\"...  3191434  146033   \n",
       "3  rhett and link|\"gmm\"|\"good mythical morning\"|\"...   343168   10172   \n",
       "4  ryan|\"higa\"|\"higatv\"|\"nigahiga\"|\"i dare you\"|\"...  2095731  132235   \n",
       "\n",
       "   dislikes  comment_count  comments_disabled  ratings_disabled  \\\n",
       "0      2966          15954              False             False   \n",
       "1      6146          12703              False             False   \n",
       "2      5339           8181              False             False   \n",
       "3       666           2146              False             False   \n",
       "4      1989          17518              False             False   \n",
       "\n",
       "   video_error_or_removed  \n",
       "0                   False  \n",
       "1                   False  \n",
       "2                   False  \n",
       "3                   False  \n",
       "4                   False  "
      ]
     },
     "execution_count": 21,
     "metadata": {},
     "output_type": "execute_result"
    }
   ],
   "source": [
    "# Check the first lines from the data\n",
    "df.head()"
   ]
  },
  {
   "cell_type": "code",
   "execution_count": 22,
   "metadata": {},
   "outputs": [
    {
     "name": "stdout",
     "output_type": "stream",
     "text": [
      "<class 'pandas.core.frame.DataFrame'>\n",
      "RangeIndex: 40949 entries, 0 to 40948\n",
      "Data columns (total 10 columns):\n",
      "title                     40949 non-null object\n",
      "channel_title             40949 non-null object\n",
      "tags                      40949 non-null object\n",
      "views                     40949 non-null int64\n",
      "likes                     40949 non-null int64\n",
      "dislikes                  40949 non-null int64\n",
      "comment_count             40949 non-null int64\n",
      "comments_disabled         40949 non-null bool\n",
      "ratings_disabled          40949 non-null bool\n",
      "video_error_or_removed    40949 non-null bool\n",
      "dtypes: bool(3), int64(4), object(3)\n",
      "memory usage: 2.3+ MB\n"
     ]
    }
   ],
   "source": [
    "# View the concise summary of the dataframe\n",
    "df.info()"
   ]
  },
  {
   "cell_type": "markdown",
   "metadata": {},
   "source": [
    "## 2.4 - Correlations in the dataset\n",
    "Looking at correlations ist one of the first ways to understand the data better. Even if a correlation between two variables does not automatically mean the causation between variables, it might gives hints for a further analysis.\n",
    "\n",
    "In our correlation matrix we observe strong correlations between views, likes, dislikes an comment_count. "
   ]
  },
  {
   "cell_type": "code",
   "execution_count": 23,
   "metadata": {},
   "outputs": [
    {
     "data": {
      "image/png": "[encoded data removed]",
      "text/plain": [
       "<Figure size 432x432 with 2 Axes>"
      ]
     },
     "metadata": {},
     "output_type": "display_data"
    }
   ],
   "source": [
    "plt.figure(figsize=(6,6))\n",
    "cor = df.corr()\n",
    "sns.heatmap(cor, annot=True, cmap=plt.cm.Reds, fmt=\".2f\")\n",
    "plt.show()"
   ]
  },
  {
   "cell_type": "markdown",
   "metadata": {},
   "source": [
    "## 2.5 - Characteristics of Trending Videos\n",
    "Here we investigate characteristics of the trending videos, to better understand, which videos "
   ]
  },
  {
   "cell_type": "markdown",
   "metadata": {},
   "source": [
    "### Top 10 YouTube Trending channels in the U.S."
   ]
  },
  {
   "cell_type": "code",
   "execution_count": 27,
   "metadata": {},
   "outputs": [
    {
     "data": {
      "text/plain": [
       "ESPN                                      203\n",
       "The Tonight Show Starring Jimmy Fallon    197\n",
       "Netflix                                   193\n",
       "Vox                                       193\n",
       "TheEllenShow                              193\n",
       "The Late Show with Stephen Colbert        187\n",
       "Jimmy Kimmel Live                         186\n",
       "Late Night with Seth Meyers               183\n",
       "Screen Junkies                            182\n",
       "NBA                                       181\n",
       "Name: channel_title, dtype: int64"
      ]
     },
     "execution_count": 27,
     "metadata": {},
     "output_type": "execute_result"
    }
   ],
   "source": [
    "df[\"channel_title\"].value_counts().head(10)"
   ]
  },
  {
   "cell_type": "markdown",
   "metadata": {},
   "source": [
    "### Top 10 Trending Tags in the U.S. "
   ]
  },
  {
   "cell_type": "code",
   "execution_count": 28,
   "metadata": {},
   "outputs": [],
   "source": [
    "def tokenize_tags(df):\n",
    "    flatten_tags = df[\"tags\"].iloc[:10].str.lower().str.cat(sep=' ')\n",
    "    tags_cleaned = re.sub('[^A-Za-z]+', ' ', flatten_tags)\n",
    "    tokens = word_tokenize(tags_cleaned)\n",
    "    lemmatizer = WordNetLemmatizer()\n",
    "    default_stopwords = set(stopwords.words(\"english\"))\n",
    "    tokens = [w for w in tokens if w not in default_stopwords]\n",
    "    clean_tokens = []\n",
    "    for tok in tokens:\n",
    "        clean_tok = lemmatizer.lemmatize(tok).lower().strip()\n",
    "        clean_tokens.append(clean_tok)\n",
    "    return clean_tokens"
   ]
  },
  {
   "cell_type": "code",
   "execution_count": 29,
   "metadata": {},
   "outputs": [
    {
     "data": {
      "text/plain": [
       "nickelback    8\n",
       "gadget        8\n",
       "iphone        6\n",
       "mythical      5\n",
       "trailer       5\n",
       "x             5\n",
       "musical       5\n",
       "greatest      4\n",
       "showman       4\n",
       "lyric         4\n",
       "dtype: int64"
      ]
     },
     "execution_count": 29,
     "metadata": {},
     "output_type": "execute_result"
    }
   ],
   "source": [
    "cleaned_data_title = tokenize_tags(df)\n",
    "list = pd.Series(cleaned_data_title)\n",
    "list.value_counts().head(10)"
   ]
  },
  {
   "cell_type": "markdown",
   "metadata": {},
   "source": [
    "##  2.5  -  Distribution of the metrics: likes, dislikes, views and comment count. \n",
    "To get some information about the metrics, we first look into the descriptive statistics. Our metrics are the numerical variables in the dataset. "
   ]
  },
  {
   "cell_type": "code",
   "execution_count": 30,
   "metadata": {},
   "outputs": [
    {
     "data": {
      "text/html": [
       "<div>\n",
       "<style scoped>\n",
       "    .dataframe tbody tr th:only-of-type {\n",
       "        vertical-align: middle;\n",
       "    }\n",
       "\n",
       "    .dataframe tbody tr th {\n",
       "        vertical-align: top;\n",
       "    }\n",
       "\n",
       "    .dataframe thead th {\n",
       "        text-align: right;\n",
       "    }\n",
       "</style>\n",
       "<table border=\"1\" class=\"dataframe\">\n",
       "  <thead>\n",
       "    <tr style=\"text-align: right;\">\n",
       "      <th></th>\n",
       "      <th>views</th>\n",
       "      <th>likes</th>\n",
       "      <th>dislikes</th>\n",
       "      <th>comment_count</th>\n",
       "    </tr>\n",
       "  </thead>\n",
       "  <tbody>\n",
       "    <tr>\n",
       "      <th>count</th>\n",
       "      <td>4.094900e+04</td>\n",
       "      <td>4.094900e+04</td>\n",
       "      <td>4.094900e+04</td>\n",
       "      <td>4.094900e+04</td>\n",
       "    </tr>\n",
       "    <tr>\n",
       "      <th>mean</th>\n",
       "      <td>2.360785e+06</td>\n",
       "      <td>7.426670e+04</td>\n",
       "      <td>3.711401e+03</td>\n",
       "      <td>8.446804e+03</td>\n",
       "    </tr>\n",
       "    <tr>\n",
       "      <th>std</th>\n",
       "      <td>7.394114e+06</td>\n",
       "      <td>2.288853e+05</td>\n",
       "      <td>2.902971e+04</td>\n",
       "      <td>3.743049e+04</td>\n",
       "    </tr>\n",
       "    <tr>\n",
       "      <th>min</th>\n",
       "      <td>5.490000e+02</td>\n",
       "      <td>0.000000e+00</td>\n",
       "      <td>0.000000e+00</td>\n",
       "      <td>0.000000e+00</td>\n",
       "    </tr>\n",
       "    <tr>\n",
       "      <th>25%</th>\n",
       "      <td>2.423290e+05</td>\n",
       "      <td>5.424000e+03</td>\n",
       "      <td>2.020000e+02</td>\n",
       "      <td>6.140000e+02</td>\n",
       "    </tr>\n",
       "    <tr>\n",
       "      <th>50%</th>\n",
       "      <td>6.818610e+05</td>\n",
       "      <td>1.809100e+04</td>\n",
       "      <td>6.310000e+02</td>\n",
       "      <td>1.856000e+03</td>\n",
       "    </tr>\n",
       "    <tr>\n",
       "      <th>75%</th>\n",
       "      <td>1.823157e+06</td>\n",
       "      <td>5.541700e+04</td>\n",
       "      <td>1.938000e+03</td>\n",
       "      <td>5.755000e+03</td>\n",
       "    </tr>\n",
       "    <tr>\n",
       "      <th>max</th>\n",
       "      <td>2.252119e+08</td>\n",
       "      <td>5.613827e+06</td>\n",
       "      <td>1.674420e+06</td>\n",
       "      <td>1.361580e+06</td>\n",
       "    </tr>\n",
       "  </tbody>\n",
       "</table>\n",
       "</div>"
      ],
      "text/plain": [
       "              views         likes      dislikes  comment_count\n",
       "count  4.094900e+04  4.094900e+04  4.094900e+04   4.094900e+04\n",
       "mean   2.360785e+06  7.426670e+04  3.711401e+03   8.446804e+03\n",
       "std    7.394114e+06  2.288853e+05  2.902971e+04   3.743049e+04\n",
       "min    5.490000e+02  0.000000e+00  0.000000e+00   0.000000e+00\n",
       "25%    2.423290e+05  5.424000e+03  2.020000e+02   6.140000e+02\n",
       "50%    6.818610e+05  1.809100e+04  6.310000e+02   1.856000e+03\n",
       "75%    1.823157e+06  5.541700e+04  1.938000e+03   5.755000e+03\n",
       "max    2.252119e+08  5.613827e+06  1.674420e+06   1.361580e+06"
      ]
     },
     "execution_count": 30,
     "metadata": {},
     "output_type": "execute_result"
    }
   ],
   "source": [
    "# View the descriptive statiscs about the data\n",
    "df.describe()"
   ]
  },
  {
   "cell_type": "code",
   "execution_count": 31,
   "metadata": {},
   "outputs": [
    {
     "data": {
      "image/png": "[encoded data removed]",
      "text/plain": [
       "<Figure size 864x432 with 4 Axes>"
      ]
     },
     "metadata": {},
     "output_type": "display_data"
    }
   ],
   "source": [
    "plt.figure(figsize = (12,6))\n",
    "\n",
    "plt.subplot(221)\n",
    "views_plot = sns.distplot(df[\"views\"], color=\"red\")\n",
    "views_plot.set_title(\"Views\", fontsize=16)\n",
    "\n",
    "plt.subplot(222)\n",
    "comment_plot = sns.distplot(df[\"comment_count\"], color=\"green\")\n",
    "comment_plot.set_title(\"Comment Count\", fontsize=16)\n",
    "\n",
    "plt.subplot(223)\n",
    "likes_plot = sns.distplot(df[\"likes\"], color=\"darkblue\")\n",
    "likes_plot.set_title(\"Likes\", fontsize=16)\n",
    "\n",
    "plt.subplot(224)\n",
    "dislikes_plot = sns.distplot(df[\"dislikes\"])\n",
    "dislikes_plot.set_title(\"Dislikes\", fontsize=16)\n",
    "\n",
    "plt.subplots_adjust(wspace = 0.2, hspace = 0.4,top = 0.9)\n",
    "\n",
    "sns.set()\n",
    "sns.set_color_codes(\"dark\")\n",
    "plt.show()"
   ]
  },
  {
   "cell_type": "markdown",
   "metadata": {},
   "source": [
    "From the descriptive statistics and graphs above, we can see that the data is heavily skewed and does not underlie normal distribution. To process with the data, we will have to normalize it. We will do it in the next step.\n"
   ]
  },
  {
   "cell_type": "markdown",
   "metadata": {},
   "source": [
    "##  2.6 -  Normalizing the numerical variables "
   ]
  },
  {
   "cell_type": "markdown",
   "metadata": {},
   "source": [
    "To create a new measure, we should compare the distribution of the numerical variables in the dataset. Obviously we have some outliers, so taking the natural log of a value can reduce the variation caused by extreme values."
   ]
  },
  {
   "cell_type": "code",
   "execution_count": 34,
   "metadata": {},
   "outputs": [],
   "source": [
    "df[\"views_log\"] = np.log(df[\"views\"] + 1)\n",
    "df[\"likes_log\"] = np.log(df[\"likes\"] + 1)\n",
    "df[\"dislikes_log\"] = np.log(df[\"dislikes\"] + 1)\n",
    "df[\"comment_count_log\"] = np.log(df[\"comment_count\"] + 1)"
   ]
  },
  {
   "cell_type": "markdown",
   "metadata": {},
   "source": [
    "After we have applied the transformations, we check the distributions graphs"
   ]
  },
  {
   "cell_type": "code",
   "execution_count": 36,
   "metadata": {},
   "outputs": [
    {
     "data": {
      "image/png": "[encoded data removed]",
      "text/plain": [
       "<Figure size 864x432 with 4 Axes>"
      ]
     },
     "metadata": {},
     "output_type": "display_data"
    }
   ],
   "source": [
    "plt.figure(figsize = (12,6))\n",
    "\n",
    "plt.subplot(221)\n",
    "views_plot = sns.distplot(df[\"views_log\"], color=\"red\")\n",
    "views_plot.set_title(\"Views\", fontsize=16)\n",
    "\n",
    "plt.subplot(222)\n",
    "comment_plot = sns.distplot(df[\"comment_count_log\"], color=\"green\")\n",
    "comment_plot.set_title(\"Comment Count\", fontsize=16)\n",
    "\n",
    "plt.subplot(223)\n",
    "likes_plot = sns.distplot(df[\"likes_log\"], color=\"darkblue\")\n",
    "likes_plot.set_title(\"Likes\", fontsize=16)\n",
    "\n",
    "plt.subplot(224)\n",
    "dislikes_plot = sns.distplot(df[\"dislikes_log\"])\n",
    "dislikes_plot.set_title(\"Dislikes\", fontsize=16)\n",
    "\n",
    "plt.subplots_adjust(wspace = 0.2, hspace = 0.4,top = 0.9)\n",
    "\n",
    "sns.set()\n",
    "sns.set_color_codes(\"dark\")\n",
    "plt.show()"
   ]
  },
  {
   "cell_type": "markdown",
   "metadata": {},
   "source": [
    "--------------------------------------------------  "
   ]
  },
  {
   "cell_type": "markdown",
   "metadata": {},
   "source": [
    "# 3 - Methodology "
   ]
  },
  {
   "cell_type": "markdown",
   "metadata": {},
   "source": [
    "Since our dataset contains four metrics likes, dislikes, views and comment count, but we want one metric, which decides about the trending strength, we have to calculate it from existing metrics. Thus, creating a derived metric is an approach to create a new metric which we will need for the analysis but which do not exist in the data source.\n",
    "In the second step, we will design a machine learning pipeline for a YouTube video title processing. The pipeline has to be used chain multiple transformations into one. This is useful as there is some steps required in processing the text data, such as cleaning, normalization, tokenization, removing stop words and lemmatization. Then we transform the data and put it into the predictor. To choose the right estimator we used the machine learning map from [Scikit-Learn](https://scikit-learn.org/stable/tutorial/machine_learning_map/index.html)."
   ]
  },
  {
   "cell_type": "markdown",
   "metadata": {},
   "source": [
    "## 3.1 Creating a new metric \"viral index\"\n",
    "After looking into data, we try to determine what could control the trending probability (we call it \"viral index\"). After some research, we define the viral index as a logarithm of the sum of views, likes and comment counts minus 2 factor dislikes, devided by the highest rank. We weighted dislikes more, because dislikes are havier than the number of positive likes. According to the [Verge](https://www.theverge.com/2019/2/1/18207189/youtube-dislike-attack-mob-review-bomb-creator-insider) \"Reports have suggested that a video with a high number of dislikes — that outweighs the number of positive likes — is less likely to be recommended, and could therefore hurt the creator\".\n",
    "Likes and views seem to have a strong correlation with each other, so we might renounce to weight the likes stronger than views. Similar applies to the comments. After we sum up the variables, we apply the logarithm to handle the outliers."
   ]
  },
  {
   "cell_type": "code",
   "execution_count": 43,
   "metadata": {
    "scrolled": true
   },
   "outputs": [],
   "source": [
    "highest_rank = (df[\"views\"] + (df[\"likes\"] - 2* df[\"dislikes\"]) +  df[\"comment_count\"]).sort_values(ascending=False).iloc[0]"
   ]
  },
  {
   "cell_type": "code",
   "execution_count": 44,
   "metadata": {},
   "outputs": [],
   "source": [
    "df[\"viral_index\"] = np.log((df[\"views\"] + (df[\"likes\"] - 2* df[\"dislikes\"]) +  df[\"comment_count\"]) / highest_rank)"
   ]
  },
  {
   "cell_type": "markdown",
   "metadata": {},
   "source": [
    "After we created the new metric called viral index, we look into some statistics:"
   ]
  },
  {
   "cell_type": "code",
   "execution_count": 45,
   "metadata": {},
   "outputs": [
    {
     "data": {
      "text/plain": [
       "0   -5.641799\n",
       "1   -4.515543\n",
       "2   -4.233900\n",
       "3   -6.476388\n",
       "4   -4.631216\n",
       "5   -7.483559\n",
       "6   -4.688605\n",
       "7   -5.608831\n",
       "8   -5.625050\n",
       "9   -6.752442\n",
       "Name: viral_index, dtype: float64"
      ]
     },
     "execution_count": 45,
     "metadata": {},
     "output_type": "execute_result"
    }
   ],
   "source": [
    "df[\"viral_index\"].head(10)"
   ]
  },
  {
   "cell_type": "code",
   "execution_count": 46,
   "metadata": {},
   "outputs": [
    {
     "data": {
      "text/plain": [
       "count    40949.000000\n",
       "mean        -5.881301\n",
       "std          1.711087\n",
       "min        -12.920595\n",
       "25%         -6.815322\n",
       "50%         -5.789953\n",
       "75%         -4.802419\n",
       "max          0.000000\n",
       "Name: viral_index, dtype: float64"
      ]
     },
     "execution_count": 46,
     "metadata": {},
     "output_type": "execute_result"
    }
   ],
   "source": [
    "df[\"viral_index\"].describe()"
   ]
  },
  {
   "cell_type": "markdown",
   "metadata": {},
   "source": [
    "We plot the distribution of the new metric viral index, to check if it is normalized."
   ]
  },
  {
   "cell_type": "code",
   "execution_count": 48,
   "metadata": {},
   "outputs": [
    {
     "data": {
      "image/png": "[encoded data removed]",
      "text/plain": [
       "<Figure size 864x432 with 1 Axes>"
      ]
     },
     "metadata": {},
     "output_type": "display_data"
    }
   ],
   "source": [
    "plt.figure(figsize = (12,6))\n",
    "plt.subplot(221)\n",
    "g1 = sns.distplot(df[\"viral_index\"])\n",
    "g1.set_title(\"Viral Index\", fontsize=16)\n",
    "sns.set()\n",
    "sns.set_color_codes(\"dark\")"
   ]
  },
  {
   "cell_type": "code",
   "execution_count": 49,
   "metadata": {},
   "outputs": [
    {
     "data": {
      "text/plain": [
       "38547    Childish Gambino - This Is America (Official V...\n",
       "38345    Childish Gambino - This Is America (Official V...\n",
       "38146    Childish Gambino - This Is America (Official V...\n",
       "37935    Childish Gambino - This Is America (Official V...\n",
       "37730    Childish Gambino - This Is America (Official V...\n",
       "37531    Childish Gambino - This Is America (Official V...\n",
       "37333    Childish Gambino - This Is America (Official V...\n",
       "37123    Childish Gambino - This Is America (Official V...\n",
       "36913    Childish Gambino - This Is America (Official V...\n",
       "36710    Childish Gambino - This Is America (Official V...\n",
       "Name: title, dtype: object"
      ]
     },
     "execution_count": 49,
     "metadata": {},
     "output_type": "execute_result"
    }
   ],
   "source": [
    "df.sort_values(by=\"viral_index\", ascending=False).head(10)[\"title\"]"
   ]
  },
  {
   "cell_type": "markdown",
   "metadata": {},
   "source": [
    "## 3.2 Design a machine learning model based on natural language processing\n",
    "Here we create our model using the new metric viral index. We take the raw title of a youtube video, clean it, normalize it, and convert it into a form that is suitable for the word embeddings. Word embeddings are vector representations of a particular word. After that we put the word embeddings to a the machine learning model, fit its parameters to training data, and use an optimization procedure. At the end, we save the model to a pickle format to use it to make predictions about unseen data later in our app."
   ]
  },
  {
   "cell_type": "code",
   "execution_count": 50,
   "metadata": {},
   "outputs": [],
   "source": [
    "# define X and Y data sets\n",
    "X = df[\"title\"]\n",
    "Y = df[\"viral_index\"]"
   ]
  },
  {
   "cell_type": "code",
   "execution_count": 51,
   "metadata": {},
   "outputs": [],
   "source": [
    "# create the text processing function\n",
    "def tokenize(text):\n",
    "    text = re.sub(r\"[^a-zA-Z0-9]\", \" \", str(text))\n",
    "    tokens = word_tokenize(text)\n",
    "    lemmatizer = WordNetLemmatizer()\n",
    "    default_stopwords = set(stopwords.words(\"english\"))\n",
    "    tokens = [w for w in tokens if w not in default_stopwords]\n",
    "    clean_tokens = []\n",
    "    for tok in tokens:\n",
    "        clean_tok = lemmatizer.lemmatize(tok).lower().strip()\n",
    "        clean_tokens.append(clean_tok)\n",
    "\n",
    "    return clean_tokens"
   ]
  },
  {
   "cell_type": "markdown",
   "metadata": {},
   "source": [
    "It is important, to look into the pipeline we have chosen. It consists of a CountVectorizer, TfidTransformer, and SVR (Support Vector Regression) as a predictor. CountVectorizer provides a simple way to both tokenize the YouTube titles and build a vocabulary of known words, but also to encode new YouTube titles using that vocabulary. TfidTransformer performs the TF-IDF transformation from a provided output matrix of CountVectorizer.  The SVR is based on the computation of a linear regression function in a high dimensional feature space where the input data are mapped via a nonlinear function. "
   ]
  },
  {
   "cell_type": "code",
   "execution_count": 52,
   "metadata": {},
   "outputs": [],
   "source": [
    "#create a pipeline for the machine learning model\n",
    "pipeline =  Pipeline([\n",
    "    ('vect', CountVectorizer(tokenizer = tokenize)),\n",
    "    ('tfidf', TfidfTransformer()),\n",
    "    ('predictor', SVR(kernel =\"rbf\", gamma='scale', C=1.0, epsilon=0.2))\n",
    "])"
   ]
  },
  {
   "cell_type": "code",
   "execution_count": 53,
   "metadata": {},
   "outputs": [
    {
     "data": {
      "text/plain": [
       "Pipeline(memory=None,\n",
       "         steps=[('vect',\n",
       "                 CountVectorizer(analyzer='word', binary=False,\n",
       "                                 decode_error='strict',\n",
       "                                 dtype=<class 'numpy.int64'>, encoding='utf-8',\n",
       "                                 input='content', lowercase=True, max_df=1.0,\n",
       "                                 max_features=None, min_df=1,\n",
       "                                 ngram_range=(1, 1), preprocessor=None,\n",
       "                                 stop_words=None, strip_accents=None,\n",
       "                                 token_pattern='(?u)\\\\b\\\\w\\\\w+\\\\b',\n",
       "                                 tokenizer=<function tokenize at 0x1a20badbf8>,\n",
       "                                 vocabulary=None)),\n",
       "                ('tfidf',\n",
       "                 TfidfTransformer(norm='l2', smooth_idf=True,\n",
       "                                  sublinear_tf=False, use_idf=True)),\n",
       "                ('predictor',\n",
       "                 SVR(C=1.0, cache_size=200, coef0=0.0, degree=3, epsilon=0.2,\n",
       "                     gamma='scale', kernel='rbf', max_iter=-1, shrinking=True,\n",
       "                     tol=0.001, verbose=False))],\n",
       "         verbose=False)"
      ]
     },
     "execution_count": 53,
     "metadata": {},
     "output_type": "execute_result"
    }
   ],
   "source": [
    "#divide the data into testing and training set\n",
    "X_train, X_test, Y_train, Y_test = train_test_split(X, Y, random_state = 42)\n",
    "pipeline.fit(X_train, Y_train)"
   ]
  },
  {
   "cell_type": "code",
   "execution_count": 55,
   "metadata": {},
   "outputs": [
    {
     "data": {
      "text/plain": [
       "array([-4.27965595])"
      ]
     },
     "execution_count": 55,
     "metadata": {},
     "output_type": "execute_result"
    }
   ],
   "source": [
    "# check an Youtube title, if the model predicts any value.\n",
    "msg = [\"YouTube Rewind: The Shape of 2017 | #YouTubeRe...\"]\n",
    "pipeline.predict(msg)"
   ]
  },
  {
   "cell_type": "markdown",
   "metadata": {},
   "source": [
    "## 3.3 - Optimizing and evaluating the model"
   ]
  },
  {
   "cell_type": "markdown",
   "metadata": {},
   "source": [
    "To tune the model parameter, there is a handy method in Scikit Learn called GridSearchCV. The GridSearchCV is used to train our model with multiple combinations of training hyper parameters and finds the best combination of parameters which optimizes the evaluation metric. It creates an exhaustive set of hyperparameter combinations and train model on each combination.\n",
    "In the second step we evaluate our model using model evaluation function and r2 square. R2 square is a metric which devided the total variance explained by model to the total variance of a model. A low value would show a low level of correlation, meaning a model that is not valid in most cases. The high value shows a high level of correlation, meaning the model is valid.\n"
   ]
  },
  {
   "cell_type": "code",
   "execution_count": null,
   "metadata": {},
   "outputs": [
    {
     "name": "stdout",
     "output_type": "stream",
     "text": [
      "Fitting 2 folds for each of 8 candidates, totalling 16 fits\n"
     ]
    },
    {
     "name": "stderr",
     "output_type": "stream",
     "text": [
      "[Parallel(n_jobs=4)]: Using backend LokyBackend with 4 concurrent workers.\n"
     ]
    }
   ],
   "source": [
    "# create parameters for an optimization procedure\n",
    "parameters = {\n",
    "        'vect__ngram_range': ((1, 1), (1, 2)),\n",
    "        'tfidf__use_idf': [True, False],\n",
    "        'tfidf__norm': ['l1', 'l2']\n",
    "        }\n",
    "# optimize model\n",
    "model = GridSearchCV(pipeline, param_grid=parameters, cv=2, verbose=1, n_jobs=4)\n",
    "model.fit(X_train, Y_train)"
   ]
  },
  {
   "cell_type": "code",
   "execution_count": null,
   "metadata": {},
   "outputs": [],
   "source": [
    "#use the model to predict the values\n",
    "y_pred = model.predict(X_test)\n",
    "y_pred.item(1)"
   ]
  },
  {
   "cell_type": "code",
   "execution_count": null,
   "metadata": {},
   "outputs": [],
   "source": [
    "# check the model metrics\n",
    "print(model.score(X_test,Y_test))\n",
    "print(r2_score(Y_test,y_pred))"
   ]
  },
  {
   "cell_type": "code",
   "execution_count": null,
   "metadata": {},
   "outputs": [],
   "source": [
    "# save the model to disk\n",
    "joblib.dump(model, 'model.pkl') "
   ]
  },
  {
   "cell_type": "markdown",
   "metadata": {},
   "source": [
    "--------------------------------------------------  "
   ]
  },
  {
   "cell_type": "markdown",
   "metadata": {},
   "source": [
    "# 4 - Results"
   ]
  },
  {
   "cell_type": "markdown",
   "metadata": {},
   "source": [
    "## 4.1 -  Prepering the results for the app and saving into database\n",
    "To prepare the results for the app, we devide the results into four equal-sized groups using quantiles. With the four groups we create a four steps scale. To each quantile, we assign a name \"bad < ok < promising < superior\". Later we use the 4 quantiles to make predictions about unseen data in our app."
   ]
  },
  {
   "cell_type": "code",
   "execution_count": 30,
   "metadata": {},
   "outputs": [],
   "source": [
    "result = pd.DataFrame()\n",
    "result[\"X\"] = X\n",
    "result[\"Y\"] = Y\n",
    "result[\"Y_pred\"] = pipeline.predict(X)"
   ]
  },
  {
   "cell_type": "code",
   "execution_count": 31,
   "metadata": {},
   "outputs": [],
   "source": [
    "from sqlalchemy import create_engine\n",
    "engine = create_engine('sqlite:///USvideos.db')\n",
    "result.to_sql(\"trends_data\", engine, index=False)"
   ]
  },
  {
   "cell_type": "code",
   "execution_count": 33,
   "metadata": {},
   "outputs": [
    {
     "data": {
      "text/plain": [
       "array([[<matplotlib.axes._subplots.AxesSubplot object at 0x1a2b9b4710>,\n",
       "        <matplotlib.axes._subplots.AxesSubplot object at 0x1a2aeea208>]],\n",
       "      dtype=object)"
      ]
     },
     "execution_count": 33,
     "metadata": {},
     "output_type": "execute_result"
    },
    {
     "data": {
      "image/png": "[encoded data removed]",
      "text/plain": [
       "<Figure size 432x288 with 2 Axes>"
      ]
     },
     "metadata": {},
     "output_type": "display_data"
    }
   ],
   "source": [
    "result.hist(bins=10)"
   ]
  },
  {
   "cell_type": "code",
   "execution_count": 35,
   "metadata": {},
   "outputs": [],
   "source": [
    "def create_labels():\n",
    "    labels = [\"bad\", \"ok\", \"promising\", \"superior\"]\n",
    "    return labels\n",
    "\n",
    "def create_bins(df):\n",
    "    limit0 = df[\"Y_pred\"].quantile([.0]).iloc[0]\n",
    "    limit25 = df[\"Y_pred\"].quantile([.25]).iloc[0]\n",
    "    limit50 = df[\"Y_pred\"].quantile([.5]).iloc[0]\n",
    "    limit75 = df[\"Y_pred\"].quantile([.75]).iloc[0]\n",
    "    bins = [limit0, limit25, limit50, limit75, np.inf]\n",
    "    return bins"
   ]
  },
  {
   "cell_type": "code",
   "execution_count": 39,
   "metadata": {},
   "outputs": [
    {
     "data": {
      "text/plain": [
       "'promising'"
      ]
     },
     "execution_count": 39,
     "metadata": {},
     "output_type": "execute_result"
    }
   ],
   "source": [
    "predicted_value = model.predict([\"My new YouTube Video about Fallout\"])\n",
    "labels = create_labels()\n",
    "bins = create_bins(result)\n",
    "# create a label based on quantile value\n",
    "pd.cut(predicted_value, bins, labels=labels)[0]"
   ]
  },
  {
   "cell_type": "markdown",
   "metadata": {},
   "source": [
    "--------------------------------------------------  "
   ]
  },
  {
   "cell_type": "markdown",
   "metadata": {},
   "source": [
    "# 5 - Conclusion\n",
    "\n",
    "## 5.1 -  Reflection\n",
    "We implemented a Flask app, that rates a new video title on a trending scale. To do it, we have used the trending data from YouTube and transformed in into a new metric. We also used the natural language processing algorithms, to analyze and classify new YouTube video title on a trending scale. The difficulty of the project was to find the best machine learning pipeline, also to implement the app, so that the app can rate the new video title based on the model built with this notebook. \n",
    "\n",
    "\n",
    "## 5.2 - Improvement\n",
    "Unfortunately YouTube trending algorithm is not public. Hence we could only make assumptions to what extent user interactions are part of it. Our app also rates only the title of the video. The data also contains the thumbnail of the trending video. Possible further analyses could include the image classification, if the data also could derive any information about the trends. Futher we could also include the "
   ]
  }
 ],
 "metadata": {
  "kernelspec": {
   "display_name": "Python 3",
   "language": "python",
   "name": "python3"
  },
  "language_info": {
   "codemirror_mode": {
    "name": "ipython",
    "version": 3
   },
   "file_extension": ".py",
   "mimetype": "text/x-python",
   "name": "python",
   "nbconvert_exporter": "python",
   "pygments_lexer": "ipython3",
   "version": "3.7.3"
  }
 },
 "nbformat": 4,
 "nbformat_minor": 2
}
